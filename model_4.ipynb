{
  "nbformat": 4,
  "nbformat_minor": 0,
  "metadata": {
    "colab": {
      "name": "model_4.ipynb",
      "provenance": [],
      "collapsed_sections": [],
      "include_colab_link": true
    },
    "kernelspec": {
      "name": "python3",
      "display_name": "Python 3"
    },
    "accelerator": "GPU"
  },
  "cells": [
    {
      "cell_type": "markdown",
      "metadata": {
        "id": "view-in-github",
        "colab_type": "text"
      },
      "source": [
        "<a href=\"https://colab.research.google.com/github/GP-FCI-SU/Breast-Cancer-Detection-with-Convolutional-Neural-Networks/blob/master/model_4.ipynb\" target=\"_parent\"><img src=\"https://colab.research.google.com/assets/colab-badge.svg\" alt=\"Open In Colab\"/></a>"
      ]
    },
    {
      "cell_type": "code",
      "metadata": {
        "id": "Fk1bVxT5LKtF",
        "colab_type": "code",
        "colab": {}
      },
      "source": [
        "import zipfile\n",
        "local_zip = '/content/drive/My Drive/ddsm-mammography.zip'\n",
        "zip_ref = zipfile.ZipFile(local_zip, 'r')\n",
        "zip_ref.extractall('/tmp/ddsm')"
      ],
      "execution_count": null,
      "outputs": []
    },
    {
      "cell_type": "code",
      "metadata": {
        "id": "OiHh0RyPL6SA",
        "colab_type": "code",
        "colab": {
          "base_uri": "https://localhost:8080/",
          "height": 34
        },
        "outputId": "8cc5d333-1954-4e2e-bf37-fc75d6fd00a3"
      },
      "source": [
        "import tensorflow as tf\n",
        "import numpy as np\n",
        "import matplotlib.pyplot as plt\n",
        "%matplotlib inline\n",
        "tf.__version__"
      ],
      "execution_count": null,
      "outputs": [
        {
          "output_type": "execute_result",
          "data": {
            "text/plain": [
              "'2.2.0'"
            ]
          },
          "metadata": {
            "tags": []
          },
          "execution_count": 2
        }
      ]
    },
    {
      "cell_type": "code",
      "metadata": {
        "id": "YP2ThvhMMAzM",
        "colab_type": "code",
        "colab": {}
      },
      "source": [
        "features={#needed features to feed into our model  \n",
        "            \n",
        "            'label_normal': tf.io.FixedLenFeature([], tf.int64),\n",
        "            'image': tf.io.FixedLenFeature([], tf.string)\n",
        "        }#we have also the label feature but not used here\n",
        "\n",
        "#make a function that will applied to the map transformation\n",
        "def _parse_image_function(example_proto):\n",
        "  parsed=tf.io.parse_single_example(example_proto,features)\n",
        "  image = tf.io.decode_raw(parsed[\"image\"], tf.uint8)\n",
        "  image = tf.cast(image, tf.float32)\n",
        " # image = tf.cast(image, tf.float32)/255.0\n",
        "  image = tf.reshape(image, shape=[299,299,1])#our image shape and model expected one\n",
        "  label = tf.cast(parsed[\"label_normal\"], tf.int32) \n",
        "  return image,label #atuple of two tensos"
      ],
      "execution_count": null,
      "outputs": []
    },
    {
      "cell_type": "code",
      "metadata": {
        "id": "mlbrFikBMB56",
        "colab_type": "code",
        "colab": {}
      },
      "source": [
        "def get_dataset(filenames):\n",
        "  dataset = tf.data.Dataset.list_files(filenames)\n",
        "  dataset = dataset.interleave(tf.data.TFRecordDataset,  num_parallel_calls=tf.data.experimental.AUTOTUNE)\n",
        "  dataset = dataset.map(_parse_image_function, num_parallel_calls=tf.data.experimental.AUTOTUNE)\n",
        "  #dataset = dataset.cache() # This dataset fits in RAM\n",
        "  #dataset = dataset.repeat()\n",
        "  #dataset = dataset.shuffle(2048)\n",
        "  dataset = dataset.batch(batch_size=16) # drop_remainder will be needed on TPU\n",
        "  dataset = dataset.prefetch(buffer_size=tf.data.experimental.AUTOTUNE)\n",
        "  return dataset"
      ],
      "execution_count": null,
      "outputs": []
    },
    {
      "cell_type": "code",
      "metadata": {
        "id": "Ot-3AIkdMSzg",
        "colab_type": "code",
        "colab": {}
      },
      "source": [
        "def load_val():\n",
        "   X_cv = np.load( \"/tmp/ddsm/test10_data/test10_data.npy\")\n",
        "   labels = np.load( \"/tmp/ddsm/test10_labels.npy\")\n",
        "   y_cv = np.zeros(len(labels))\n",
        "   y_cv[labels != 0] = 1\n",
        "   return X_cv, y_cv"
      ],
      "execution_count": null,
      "outputs": []
    },
    {
      "cell_type": "code",
      "metadata": {
        "id": "eJH2wiAUMQmJ",
        "colab_type": "code",
        "colab": {}
      },
      "source": [
        "def get_training_dataset():\n",
        "  return get_dataset([\"/tmp/ddsm/training10_0/training10_0.tfrecords\",\n",
        "                     \"/tmp/ddsm/training10_1/training10_1.tfrecords\",\n",
        "                     \"/tmp/ddsm/training10_2/training10_2.tfrecords\",\n",
        "                     \"/tmp/ddsm/training10_3/training10_3.tfrecords\",\n",
        "                     \"/tmp/ddsm/training10_4/training10_4.tfrecords\"]\n",
        "                     )\n",
        "def get_test_dataset():\n",
        "  test_dataset = tf.data.Dataset.from_tensor_slices(load_val())\n",
        "  test_dataset= test_dataset.batch(batch_size=16)\n",
        "  return test_dataset\n"
      ],
      "execution_count": null,
      "outputs": []
    },
    {
      "cell_type": "code",
      "metadata": {
        "id": "3Mam6mMxMtip",
        "colab_type": "code",
        "colab": {
          "base_uri": "https://localhost:8080/",
          "height": 765
        },
        "outputId": "54564865-5364-4005-d06b-470af2bc5f33"
      },
      "source": [
        "model = tf.keras.models.Sequential([ \n",
        "    tf.keras.layers.Conv2D( 32, (3,3), activation='relu', input_shape=(299,299,1)),\n",
        "    tf.keras.layers.Conv2D(32,(3,3),activation='relu'),\n",
        "    tf.keras.layers.Conv2D(32,(3,3),activation='relu'),   \n",
        "    tf.keras.layers.MaxPooling2D((3,3),strides=2),\n",
        "    \n",
        "    \n",
        "    tf.keras.layers.Conv2D(64,(3,3),activation='relu'),\n",
        "    tf.keras.layers.Conv2D(64,(3,3),activation='relu'),\n",
        "    tf.keras.layers.MaxPooling2D((2,2),strides=2),\n",
        "\n",
        "   tf.keras.layers.Conv2D(128,(3,3),activation='relu'),\n",
        "   tf.keras.layers.Conv2D(128,(3,3),activation='relu'),\n",
        "   tf.keras.layers.MaxPooling2D((2,2),strides=2),\n",
        "\n",
        "   tf.keras.layers.Conv2D(256,(3,3),activation='relu'),\n",
        "   tf.keras.layers.MaxPooling2D((2,2),strides=2),\n",
        "\n",
        "   tf.keras.layers.Conv2D(512,(3,3),activation='relu'),\n",
        "   tf.keras.layers.MaxPooling2D((2,2),strides=2),\n",
        "   # tf.keras.layers.MaxPooling2D(2, 2),\n",
        "    tf.keras.layers.Flatten(),\n",
        "    tf.keras.layers.Dense(2048, activation='relu'),\n",
        "    tf.keras.layers.Dense(2048,activation='relu'),\n",
        "    tf.keras.layers.Dense(1, activation='sigmoid')\n",
        "])\n",
        "model.summary()"
      ],
      "execution_count": null,
      "outputs": [
        {
          "output_type": "stream",
          "text": [
            "Model: \"sequential\"\n",
            "_________________________________________________________________\n",
            "Layer (type)                 Output Shape              Param #   \n",
            "=================================================================\n",
            "conv2d (Conv2D)              (None, 297, 297, 32)      320       \n",
            "_________________________________________________________________\n",
            "conv2d_1 (Conv2D)            (None, 295, 295, 32)      9248      \n",
            "_________________________________________________________________\n",
            "conv2d_2 (Conv2D)            (None, 293, 293, 32)      9248      \n",
            "_________________________________________________________________\n",
            "max_pooling2d (MaxPooling2D) (None, 146, 146, 32)      0         \n",
            "_________________________________________________________________\n",
            "conv2d_3 (Conv2D)            (None, 144, 144, 64)      18496     \n",
            "_________________________________________________________________\n",
            "conv2d_4 (Conv2D)            (None, 142, 142, 64)      36928     \n",
            "_________________________________________________________________\n",
            "max_pooling2d_1 (MaxPooling2 (None, 71, 71, 64)        0         \n",
            "_________________________________________________________________\n",
            "conv2d_5 (Conv2D)            (None, 69, 69, 128)       73856     \n",
            "_________________________________________________________________\n",
            "conv2d_6 (Conv2D)            (None, 67, 67, 128)       147584    \n",
            "_________________________________________________________________\n",
            "max_pooling2d_2 (MaxPooling2 (None, 33, 33, 128)       0         \n",
            "_________________________________________________________________\n",
            "conv2d_7 (Conv2D)            (None, 31, 31, 256)       295168    \n",
            "_________________________________________________________________\n",
            "max_pooling2d_3 (MaxPooling2 (None, 15, 15, 256)       0         \n",
            "_________________________________________________________________\n",
            "conv2d_8 (Conv2D)            (None, 13, 13, 512)       1180160   \n",
            "_________________________________________________________________\n",
            "max_pooling2d_4 (MaxPooling2 (None, 6, 6, 512)         0         \n",
            "_________________________________________________________________\n",
            "flatten (Flatten)            (None, 18432)             0         \n",
            "_________________________________________________________________\n",
            "dense (Dense)                (None, 2048)              37750784  \n",
            "_________________________________________________________________\n",
            "dense_1 (Dense)              (None, 2048)              4196352   \n",
            "_________________________________________________________________\n",
            "dense_2 (Dense)              (None, 1)                 2049      \n",
            "=================================================================\n",
            "Total params: 43,720,193\n",
            "Trainable params: 43,720,193\n",
            "Non-trainable params: 0\n",
            "_________________________________________________________________\n"
          ],
          "name": "stdout"
        }
      ]
    },
    {
      "cell_type": "code",
      "metadata": {
        "id": "I6gHHXeINOYW",
        "colab_type": "code",
        "colab": {}
      },
      "source": [
        "class myCallback(tf.keras.callbacks.Callback):\n",
        "    def on_epoch_end(self, epoch, logs={}):\n",
        "      self.model.save(\"/tmp/model_4_e{},{:.2f},{:.2f},{:.2f},{:.2f}.h5\".format(epoch,logs['acc'],logs['loss'],logs['val_acc'],logs['val_loss']))"
      ],
      "execution_count": null,
      "outputs": []
    },
    {
      "cell_type": "code",
      "metadata": {
        "id": "23oTX5qENUdu",
        "colab_type": "code",
        "colab": {}
      },
      "source": [
        "from tensorflow.keras.optimizers import RMSprop\n",
        "model.compile(loss='binary_crossentropy',\n",
        "              optimizer=RMSprop(lr=0.001),\n",
        "              metrics=['acc'])"
      ],
      "execution_count": null,
      "outputs": []
    },
    {
      "cell_type": "code",
      "metadata": {
        "id": "Bv_HRaePNHO4",
        "colab_type": "code",
        "colab": {
          "base_uri": "https://localhost:8080/",
          "height": 615
        },
        "outputId": "cd5cb99f-c8c1-4f5c-ec1e-e6e74da2e158"
      },
      "source": [
        "callback=myCallback()\n",
        "history = model.fit(\n",
        "    get_training_dataset(),\n",
        "     validation_data=get_test_dataset(), \n",
        "      epochs=30,\n",
        "      verbose=1,\n",
        "      callbacks=[callback]\n",
        "      )"
      ],
      "execution_count": null,
      "outputs": [
        {
          "output_type": "stream",
          "text": [
            "Epoch 1/30\n",
            "3493/3493 [==============================] - 319s 91ms/step - loss: 8.0869 - acc: 0.8695 - val_loss: 0.2742 - val_acc: 0.8831\n",
            "Epoch 2/30\n",
            "3493/3493 [==============================] - 328s 94ms/step - loss: 2.4823 - acc: 0.8761 - val_loss: 0.2298 - val_acc: 0.9272\n",
            "Epoch 3/30\n",
            "3493/3493 [==============================] - 326s 93ms/step - loss: 10.1171 - acc: 0.8801 - val_loss: 0.2517 - val_acc: 0.8877\n",
            "Epoch 4/30\n",
            "3493/3493 [==============================] - 327s 94ms/step - loss: 7.9060 - acc: 0.8804 - val_loss: 0.3877 - val_acc: 0.8696\n",
            "Epoch 5/30\n",
            "3493/3493 [==============================] - 320s 91ms/step - loss: 7.9963 - acc: 0.8824 - val_loss: 0.2644 - val_acc: 0.8914\n",
            "Epoch 6/30\n",
            "3493/3493 [==============================] - 325s 93ms/step - loss: 22.1496 - acc: 0.8804 - val_loss: 0.3227 - val_acc: 0.8700\n",
            "Epoch 7/30\n",
            "3493/3493 [==============================] - 330s 95ms/step - loss: 2.4271 - acc: 0.8760 - val_loss: 1.3558 - val_acc: 0.8647\n",
            "Epoch 8/30\n",
            "3493/3493 [==============================] - 328s 94ms/step - loss: 1.3168 - acc: 0.8694 - val_loss: 0.3872 - val_acc: 0.8696\n",
            "Epoch 9/30\n",
            "3493/3493 [==============================] - 328s 94ms/step - loss: 0.3872 - acc: 0.8696 - val_loss: 0.3872 - val_acc: 0.8696\n",
            "Epoch 10/30\n",
            "3493/3493 [==============================] - 325s 93ms/step - loss: 0.3872 - acc: 0.8696 - val_loss: 0.3873 - val_acc: 0.8696\n",
            "Epoch 11/30\n",
            "3493/3493 [==============================] - 329s 94ms/step - loss: 0.3872 - acc: 0.8696 - val_loss: 0.3872 - val_acc: 0.8696\n",
            "Epoch 12/30\n",
            "3493/3493 [==============================] - 322s 92ms/step - loss: 0.3873 - acc: 0.8696 - val_loss: 0.3872 - val_acc: 0.8696\n",
            "Epoch 13/30\n",
            "3493/3493 [==============================] - 320s 92ms/step - loss: 0.3872 - acc: 0.8696 - val_loss: 0.3872 - val_acc: 0.8696\n",
            "Epoch 14/30\n",
            "3493/3493 [==============================] - 330s 95ms/step - loss: 0.3872 - acc: 0.8696 - val_loss: 0.3872 - val_acc: 0.8696\n",
            "Epoch 15/30\n",
            "3493/3493 [==============================] - 325s 93ms/step - loss: 0.3872 - acc: 0.8696 - val_loss: 0.3872 - val_acc: 0.8696\n",
            "Epoch 16/30\n",
            "3493/3493 [==============================] - 327s 94ms/step - loss: 0.3872 - acc: 0.8696 - val_loss: 0.3872 - val_acc: 0.8696\n",
            "Epoch 17/30\n",
            "3345/3493 [===========================>..] - ETA: 12s - loss: 0.3878 - acc: 0.8693Buffered data was truncated after reaching the output size limit."
          ],
          "name": "stdout"
        }
      ]
    },
    {
      "cell_type": "code",
      "metadata": {
        "id": "OFajH70CNcLA",
        "colab_type": "code",
        "colab": {
          "base_uri": "https://localhost:8080/",
          "height": 573
        },
        "outputId": "2d6de3af-2b38-47bb-a26a-22e12899a957"
      },
      "source": [
        "# summarize history for accuracy\n",
        "plt.plot(history.history['acc'])\n",
        "plt.plot(history.history['val_acc'])\n",
        "plt.title('model accuracy')\n",
        "plt.ylabel('accuracy')\n",
        "plt.xlabel('epoch')\n",
        "plt.legend(['train', 'test'], loc='upper left')\n",
        "plt.show()\n",
        "# summarize history for loss\n",
        "plt.plot(history.history['loss'])\n",
        "plt.plot(history.history['val_loss'])\n",
        "plt.title('model loss')\n",
        "plt.ylabel('loss')\n",
        "plt.xlabel('epoch')\n",
        "plt.legend(['train', 'test'], loc='upper left')\n",
        "plt.show()"
      ],
      "execution_count": null,
      "outputs": [
        {
          "output_type": "display_data",
          "data": {
            "image/png": "[encoded data removed]",
            "text/plain": [
              "<Figure size 432x288 with 1 Axes>"
            ]
          },
          "metadata": {
            "tags": [],
            "needs_background": "light"
          }
        },
        {
          "output_type": "display_data",
          "data": {
            "image/png": "[encoded data removed]",
            "text/plain": [
              "<Figure size 432x288 with 1 Axes>"
            ]
          },
          "metadata": {
            "tags": [],
            "needs_background": "light"
          }
        }
      ]
    },
    {
      "cell_type": "code",
      "metadata": {
        "id": "MuehqNvLMaEG",
        "colab_type": "code",
        "colab": {}
      },
      "source": [
        "#display some  images\n",
        "i=0 \n",
        "num=20 #number of images u want to disply less than one batch size\n",
        "\n",
        "for images,labels in get_training_dataset().take(1) :\n",
        "  for im,lb in zip(images,labels): \n",
        "    print(\"LABEL: \"+str(lb.numpy())) \n",
        "    plt.imshow( tf.reshape(im, shape=[299,299])  )     \n",
        "    plt.show()\n",
        "    i=i+1\n",
        "    if i>=num:\n",
        "      break\n",
        "  "
      ],
      "execution_count": null,
      "outputs": []
    },
    {
      "cell_type": "code",
      "metadata": {
        "id": "0LFBszANMkM2",
        "colab_type": "code",
        "colab": {
          "base_uri": "https://localhost:8080/",
          "height": 1000
        },
        "outputId": "46537030-801a-4e13-cdf6-3bca060971a6"
      },
      "source": [
        "fig = plt.figure(figsize=(24,56))\n",
        "\n",
        "cnt=1\n",
        "\n",
        "ds=get_training_dataset()\n",
        "\n",
        "for imgs,lbls in ds.take(4):\n",
        "  predicted_classes=model.predict_classes(imgs)\n",
        "  for img,lbl,cl in zip(imgs,lbls,predicted_classes):\n",
        "    fig.add_subplot(16,4, cnt)\n",
        "    plt.title('{}/{}'.format(cl,lbl))\n",
        "    plt.imshow(tf.reshape(img, shape=[299,299]))\n",
        "    cnt=cnt+1\n",
        "#print(predicted_classes)\n"
      ],
      "execution_count": null,
      "outputs": []
    }
  ]
}