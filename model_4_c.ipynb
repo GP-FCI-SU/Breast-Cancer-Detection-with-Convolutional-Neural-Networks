{
  "nbformat": 4,
  "nbformat_minor": 0,
  "metadata": {
    "colab": {
      "name": "model_4_c.ipynb",
      "provenance": [],
      "collapsed_sections": [],
      "include_colab_link": true
    },
    "kernelspec": {
      "name": "python3",
      "display_name": "Python 3"
    },
    "accelerator": "GPU"
  },
  "cells": [
    {
      "cell_type": "markdown",
      "metadata": {
        "id": "view-in-github",
        "colab_type": "text"
      },
      "source": [
        "<a href=\"https://colab.research.google.com/github/GP-FCI-SU/Breast-Cancer-Detection-with-Convolutional-Neural-Networks/blob/master/model_4_c.ipynb\" target=\"_parent\"><img src=\"https://colab.research.google.com/assets/colab-badge.svg\" alt=\"Open In Colab\"/></a>"
      ]
    },
    {
      "cell_type": "markdown",
      "metadata": {
        "id": "A2Z7JQzh_4PS",
        "colab_type": "text"
      },
      "source": [
        "updated version of model_4 .here we change the classes wieght (0:1)with (1:3)"
      ]
    },
    {
      "cell_type": "code",
      "metadata": {
        "id": "zjHCbhWE5srf",
        "colab_type": "code",
        "colab": {}
      },
      "source": [
        "import zipfile\n",
        "local_zip = '/content/drive/My Drive/ddsm-mammography.zip'\n",
        "zip_ref = zipfile.ZipFile(local_zip, 'r')\n",
        "zip_ref.extractall('/tmp/ddsm')"
      ],
      "execution_count": null,
      "outputs": []
    },
    {
      "cell_type": "code",
      "metadata": {
        "id": "fXCHT1-k9f2m",
        "colab_type": "code",
        "colab": {
          "base_uri": "https://localhost:8080/",
          "height": 34
        },
        "outputId": "724726df-b8c5-4eec-859c-abb918223cf0"
      },
      "source": [
        "import tensorflow as tf\n",
        "import numpy as np\n",
        "from sklearn.metrics import recall_score\n",
        "import matplotlib.pyplot as plt\n",
        "%matplotlib inline\n",
        "tf.__version__"
      ],
      "execution_count": null,
      "outputs": [
        {
          "output_type": "execute_result",
          "data": {
            "text/plain": [
              "'2.2.0'"
            ]
          },
          "metadata": {
            "tags": []
          },
          "execution_count": 2
        }
      ]
    },
    {
      "cell_type": "code",
      "metadata": {
        "id": "WeY4HpOT9lOr",
        "colab_type": "code",
        "colab": {}
      },
      "source": [
        "features={#needed features to feed into our model  \n",
        "            \n",
        "            'label_normal': tf.io.FixedLenFeature([], tf.int64),\n",
        "            'image': tf.io.FixedLenFeature([], tf.string)\n",
        "        }#we have also the label feature but not used here\n",
        "\n",
        "#make a function that will applied to the map transformation\n",
        "def _parse_image_function(example_proto):\n",
        "  parsed=tf.io.parse_single_example(example_proto,features)\n",
        "  image = tf.io.decode_raw(parsed[\"image\"], tf.uint8)\n",
        "  image = tf.cast(image, tf.float32)\n",
        " # image = tf.cast(image, tf.float32)/255.0\n",
        "  image = tf.reshape(image, shape=[299,299,1])#our image shape and model expected one\n",
        "  label = tf.cast(parsed[\"label_normal\"], tf.int32) \n",
        "  return image,label #atuple of two tensos"
      ],
      "execution_count": null,
      "outputs": []
    },
    {
      "cell_type": "code",
      "metadata": {
        "id": "s4kqvHt99nIM",
        "colab_type": "code",
        "colab": {}
      },
      "source": [
        "def get_dataset(filenames):\n",
        "  dataset = tf.data.Dataset.list_files(filenames)\n",
        "  dataset = dataset.interleave(tf.data.TFRecordDataset,  num_parallel_calls=tf.data.experimental.AUTOTUNE)\n",
        "  dataset = dataset.map(_parse_image_function, num_parallel_calls=tf.data.experimental.AUTOTUNE)\n",
        "  #dataset = dataset.cache() # This dataset fits in RAM\n",
        "  #dataset = dataset.repeat()\n",
        "  #dataset = dataset.shuffle(2048)\n",
        "  dataset = dataset.batch(batch_size=16) # drop_remainder will be needed on TPU\n",
        "  dataset = dataset.prefetch(buffer_size=tf.data.experimental.AUTOTUNE)\n",
        "  return dataset"
      ],
      "execution_count": null,
      "outputs": []
    },
    {
      "cell_type": "code",
      "metadata": {
        "id": "s70Rn5ZM9suL",
        "colab_type": "code",
        "colab": {}
      },
      "source": [
        "def load_val():\n",
        "   X_cv = np.load( \"/tmp/ddsm/test10_data/test10_data.npy\")\n",
        "   labels = np.load( \"/tmp/ddsm/test10_labels.npy\")\n",
        "   y_cv = np.zeros(len(labels))\n",
        "   y_cv[labels != 0] = 1\n",
        "   return X_cv, y_cv"
      ],
      "execution_count": null,
      "outputs": []
    },
    {
      "cell_type": "code",
      "metadata": {
        "id": "hdE0JMVF9zIr",
        "colab_type": "code",
        "colab": {}
      },
      "source": [
        "def get_training_dataset():\n",
        "  return get_dataset([\"/tmp/ddsm/training10_0/training10_0.tfrecords\",\n",
        "                     \"/tmp/ddsm/training10_1/training10_1.tfrecords\",\n",
        "                     \"/tmp/ddsm/training10_2/training10_2.tfrecords\",\n",
        "                     \"/tmp/ddsm/training10_3/training10_3.tfrecords\",\n",
        "                     \"/tmp/ddsm/training10_4/training10_4.tfrecords\"]\n",
        "                     )\n",
        "def get_test_dataset():\n",
        "  test_dataset = tf.data.Dataset.from_tensor_slices(load_val())\n",
        "  test_dataset= test_dataset.batch(batch_size=16)\n",
        "  return test_dataset\n"
      ],
      "execution_count": null,
      "outputs": []
    },
    {
      "cell_type": "code",
      "metadata": {
        "id": "3iLjHR3w90zy",
        "colab_type": "code",
        "colab": {
          "base_uri": "https://localhost:8080/",
          "height": 765
        },
        "outputId": "88b09b09-2da0-4d32-f95d-9c1bf97cd19e"
      },
      "source": [
        "model = tf.keras.models.Sequential([ \n",
        "    tf.keras.layers.Conv2D( 32, (3,3), activation='relu', input_shape=(299,299,1)),\n",
        "    tf.keras.layers.Conv2D(32,(3,3),activation='relu'),\n",
        "    tf.keras.layers.Conv2D(32,(3,3),activation='relu'),   \n",
        "    tf.keras.layers.MaxPooling2D((3,3),strides=2),\n",
        "    \n",
        "    \n",
        "    tf.keras.layers.Conv2D(64,(3,3),activation='relu'),\n",
        "    tf.keras.layers.Conv2D(64,(3,3),activation='relu'),\n",
        "    tf.keras.layers.MaxPooling2D((2,2),strides=2),\n",
        "\n",
        "   tf.keras.layers.Conv2D(128,(3,3),activation='relu'),\n",
        "   tf.keras.layers.Conv2D(128,(3,3),activation='relu'),\n",
        "   tf.keras.layers.MaxPooling2D((2,2),strides=2),\n",
        "\n",
        "   tf.keras.layers.Conv2D(256,(3,3),activation='relu'),\n",
        "   tf.keras.layers.MaxPooling2D((2,2),strides=2),\n",
        "\n",
        "   tf.keras.layers.Conv2D(512,(3,3),activation='relu'),\n",
        "   tf.keras.layers.MaxPooling2D((2,2),strides=2),\n",
        "   # tf.keras.layers.MaxPooling2D(2, 2),\n",
        "    tf.keras.layers.Flatten(),\n",
        "    tf.keras.layers.Dense(2048, activation='relu'),\n",
        "    tf.keras.layers.Dense(2048,activation='relu'),\n",
        "    tf.keras.layers.Dense(1, activation='sigmoid')\n",
        "])\n",
        "model.summary()"
      ],
      "execution_count": null,
      "outputs": [
        {
          "output_type": "stream",
          "text": [
            "Model: \"sequential\"\n",
            "_________________________________________________________________\n",
            "Layer (type)                 Output Shape              Param #   \n",
            "=================================================================\n",
            "conv2d (Conv2D)              (None, 297, 297, 32)      320       \n",
            "_________________________________________________________________\n",
            "conv2d_1 (Conv2D)            (None, 295, 295, 32)      9248      \n",
            "_________________________________________________________________\n",
            "conv2d_2 (Conv2D)            (None, 293, 293, 32)      9248      \n",
            "_________________________________________________________________\n",
            "max_pooling2d (MaxPooling2D) (None, 146, 146, 32)      0         \n",
            "_________________________________________________________________\n",
            "conv2d_3 (Conv2D)            (None, 144, 144, 64)      18496     \n",
            "_________________________________________________________________\n",
            "conv2d_4 (Conv2D)            (None, 142, 142, 64)      36928     \n",
            "_________________________________________________________________\n",
            "max_pooling2d_1 (MaxPooling2 (None, 71, 71, 64)        0         \n",
            "_________________________________________________________________\n",
            "conv2d_5 (Conv2D)            (None, 69, 69, 128)       73856     \n",
            "_________________________________________________________________\n",
            "conv2d_6 (Conv2D)            (None, 67, 67, 128)       147584    \n",
            "_________________________________________________________________\n",
            "max_pooling2d_2 (MaxPooling2 (None, 33, 33, 128)       0         \n",
            "_________________________________________________________________\n",
            "conv2d_7 (Conv2D)            (None, 31, 31, 256)       295168    \n",
            "_________________________________________________________________\n",
            "max_pooling2d_3 (MaxPooling2 (None, 15, 15, 256)       0         \n",
            "_________________________________________________________________\n",
            "conv2d_8 (Conv2D)            (None, 13, 13, 512)       1180160   \n",
            "_________________________________________________________________\n",
            "max_pooling2d_4 (MaxPooling2 (None, 6, 6, 512)         0         \n",
            "_________________________________________________________________\n",
            "flatten (Flatten)            (None, 18432)             0         \n",
            "_________________________________________________________________\n",
            "dense (Dense)                (None, 2048)              37750784  \n",
            "_________________________________________________________________\n",
            "dense_1 (Dense)              (None, 2048)              4196352   \n",
            "_________________________________________________________________\n",
            "dense_2 (Dense)              (None, 1)                 2049      \n",
            "=================================================================\n",
            "Total params: 43,720,193\n",
            "Trainable params: 43,720,193\n",
            "Non-trainable params: 0\n",
            "_________________________________________________________________\n"
          ],
          "name": "stdout"
        }
      ]
    },
    {
      "cell_type": "code",
      "metadata": {
        "id": "F0eMGD4195fo",
        "colab_type": "code",
        "colab": {}
      },
      "source": [
        "class myCallback(tf.keras.callbacks.Callback):\n",
        "    def on_epoch_end(self, epoch, logs={}):\n",
        "      if epoch>9:\n",
        "        self.model.save(\"/tmp/model_4_e{},{:.2f},{:.2f},{:.2f},{:.2f}.h5\".format(epoch,logs['acc'],logs['loss'],logs['val_acc'],logs['val_loss']))"
      ],
      "execution_count": null,
      "outputs": []
    },
    {
      "cell_type": "code",
      "metadata": {
        "id": "nz8QiwZuE3Ao",
        "colab_type": "code",
        "colab": {}
      },
      "source": [
        "class_weights = {1: 0.75,\n",
        "                 0: 0.25}"
      ],
      "execution_count": null,
      "outputs": []
    },
    {
      "cell_type": "code",
      "metadata": {
        "id": "M1CFWy5T-DYM",
        "colab_type": "code",
        "colab": {}
      },
      "source": [
        "#from tensorflow.keras.optimizers import RMSprop\n",
        "model.compile(loss='binary_crossentropy',\n",
        "              optimizer='adam',\n",
        "              metrics=['acc'])"
      ],
      "execution_count": null,
      "outputs": []
    },
    {
      "cell_type": "code",
      "metadata": {
        "id": "ZjjB8uxz-MXK",
        "colab_type": "code",
        "colab": {
          "base_uri": "https://localhost:8080/",
          "height": 700
        },
        "outputId": "e48fcf15-ad36-4d10-c985-e71dab1626ae"
      },
      "source": [
        "callback=myCallback()\n",
        "history = model.fit(\n",
        "    get_training_dataset(),\n",
        "     validation_data=get_test_dataset(), \n",
        "      epochs=30,\n",
        "      verbose=1,\n",
        "      callbacks=[callback],\n",
        "      class_weight=class_weights\n",
        "      )"
      ],
      "execution_count": null,
      "outputs": [
        {
          "output_type": "stream",
          "text": [
            "3493/3493 [==============================] - 748s 214ms/step - loss: 0.1169 - acc: 0.8768 - val_loss: 0.5893 - val_acc: 0.7058\n",
            "Epoch 12/30\n",
            "3493/3493 [==============================] - 745s 213ms/step - loss: 0.1165 - acc: 0.8770 - val_loss: 0.3075 - val_acc: 0.8791\n",
            "Epoch 13/30\n",
            "3493/3493 [==============================] - 744s 213ms/step - loss: 0.1234 - acc: 0.8735 - val_loss: 0.2028 - val_acc: 0.9253\n",
            "Epoch 14/30\n",
            "3493/3493 [==============================] - 738s 211ms/step - loss: 0.1129 - acc: 0.8783 - val_loss: 0.3426 - val_acc: 0.9267\n",
            "Epoch 15/30\n",
            "3493/3493 [==============================] - 739s 212ms/step - loss: 0.1208 - acc: 0.8766 - val_loss: 0.2860 - val_acc: 0.9293\n",
            "Epoch 16/30\n",
            "3493/3493 [==============================] - 745s 213ms/step - loss: 0.1144 - acc: 0.8791 - val_loss: 0.3897 - val_acc: 0.8058\n",
            "Epoch 17/30\n",
            "3493/3493 [==============================] - 733s 210ms/step - loss: 0.1236 - acc: 0.8778 - val_loss: 0.4043 - val_acc: 0.8034\n",
            "Epoch 18/30\n",
            "3493/3493 [==============================] - 735s 210ms/step - loss: 0.1118 - acc: 0.8776 - val_loss: 0.3309 - val_acc: 0.8998\n",
            "Epoch 19/30\n",
            "3493/3493 [==============================] - 734s 210ms/step - loss: 0.1178 - acc: 0.8786 - val_loss: 0.2368 - val_acc: 0.9336\n",
            "Epoch 20/30\n",
            "3493/3493 [==============================] - 740s 212ms/step - loss: 0.1104 - acc: 0.8794 - val_loss: 0.2452 - val_acc: 0.9305\n",
            "Epoch 21/30\n",
            "3493/3493 [==============================] - 732s 210ms/step - loss: 0.1145 - acc: 0.8774 - val_loss: 0.1824 - val_acc: 0.9350\n",
            "Epoch 22/30\n",
            "3493/3493 [==============================] - 736s 211ms/step - loss: 0.1108 - acc: 0.8802 - val_loss: 0.4706 - val_acc: 0.7558\n",
            "Epoch 23/30\n",
            "3493/3493 [==============================] - 733s 210ms/step - loss: 0.1144 - acc: 0.8777 - val_loss: 0.2968 - val_acc: 0.8671\n",
            "Epoch 24/30\n",
            "3493/3493 [==============================] - 736s 211ms/step - loss: 0.1157 - acc: 0.8800 - val_loss: 0.3442 - val_acc: 0.9215\n",
            "Epoch 25/30\n",
            "3493/3493 [==============================] - 732s 210ms/step - loss: 0.1150 - acc: 0.8818 - val_loss: 0.2709 - val_acc: 0.8845\n",
            "Epoch 26/30\n",
            "3493/3493 [==============================] - 731s 209ms/step - loss: 0.1120 - acc: 0.8791 - val_loss: 0.2428 - val_acc: 0.9293\n",
            "Epoch 27/30\n",
            "3493/3493 [==============================] - 739s 211ms/step - loss: 0.1066 - acc: 0.8840 - val_loss: 0.2147 - val_acc: 0.9323\n",
            "Epoch 28/30\n",
            "3493/3493 [==============================] - 738s 211ms/step - loss: 0.1142 - acc: 0.8791 - val_loss: 0.2429 - val_acc: 0.9045\n",
            "Epoch 29/30\n",
            "3493/3493 [==============================] - 739s 212ms/step - loss: 0.1068 - acc: 0.8799 - val_loss: 0.2402 - val_acc: 0.9276\n",
            "Epoch 30/30\n",
            "3493/3493 [==============================] - 737s 211ms/step - loss: 0.1670 - acc: 0.8761 - val_loss: 0.2630 - val_acc: 0.9314\n"
          ],
          "name": "stdout"
        }
      ]
    },
    {
      "cell_type": "markdown",
      "metadata": {
        "id": "hAbvDR_9olyl",
        "colab_type": "text"
      },
      "source": [
        ""
      ]
    },
    {
      "cell_type": "code",
      "metadata": {
        "id": "erJTUx0p_VD-",
        "colab_type": "code",
        "colab": {
          "base_uri": "https://localhost:8080/",
          "height": 34
        },
        "outputId": "e2abf934-570d-4cc3-f523-b506e382061c"
      },
      "source": [
        "yhat=model.predict_classes(get_test_dataset() )\n",
        "yhat = yhat[:, 0]\n",
        "_,y=load_val()\n",
        "recall = recall_score(y, yhat)\n",
        "print('Recall: %f' % recall)"
      ],
      "execution_count": null,
      "outputs": [
        {
          "output_type": "stream",
          "text": [
            "Recall: 0.751497\n"
          ],
          "name": "stdout"
        }
      ]
    },
    {
      "cell_type": "code",
      "metadata": {
        "id": "EnLYaz9k-Qpx",
        "colab_type": "code",
        "colab": {
          "base_uri": "https://localhost:8080/",
          "height": 573
        },
        "outputId": "fd7ebf1c-7223-4943-cddf-ad6faa8121d1"
      },
      "source": [
        "plt.plot(history.history['acc'])\n",
        "plt.plot(history.history['val_acc'])\n",
        "plt.title('model accuracy')\n",
        "plt.ylabel('accuracy')\n",
        "plt.xlabel('epoch')\n",
        "plt.legend(['train', 'test'], loc='upper left')\n",
        "plt.show()\n",
        "# summarize history for loss\n",
        "plt.plot(history.history['loss'])\n",
        "plt.plot(history.history['val_loss'])\n",
        "plt.title('model loss')\n",
        "plt.ylabel('loss')\n",
        "plt.xlabel('epoch')\n",
        "plt.legend(['train', 'test'], loc='upper left')\n",
        "plt.show()"
      ],
      "execution_count": null,
      "outputs": [
        {
          "output_type": "display_data",
          "data": {
            "image/png": "[encoded data removed]",
            "text/plain": [
              "<Figure size 432x288 with 1 Axes>"
            ]
          },
          "metadata": {
            "tags": [],
            "needs_background": "light"
          }
        },
        {
          "output_type": "display_data",
          "data": {
            "image/png": "[encoded data removed]",
            "text/plain": [
              "<Figure size 432x288 with 1 Axes>"
            ]
          },
          "metadata": {
            "tags": [],
            "needs_background": "light"
          }
        }
      ]
    },
    {
      "cell_type": "code",
      "metadata": {
        "id": "o-VExEpA-Vlq",
        "colab_type": "code",
        "colab": {
          "base_uri": "https://localhost:8080/",
          "height": 1000
        },
        "outputId": "ee13c697-7308-4f21-95a8-359c759ff4d1"
      },
      "source": [
        "fig = plt.figure(figsize=(24,100))\n",
        "\n",
        "cnt=1\n",
        "\n",
        "ds=get_test_dataset()\n",
        "\n",
        "for imgs,lbls in ds.take(8):\n",
        "  predicted_classes=model.predict_classes(imgs)\n",
        "  for img,lbl,cl in zip(imgs,lbls,predicted_classes):\n",
        "    fig.add_subplot(32,4, cnt)\n",
        "    plt.title('{}/{}'.format(cl,int(lbl)))\n",
        "    plt.imshow(tf.reshape(img, shape=[299,299]))\n",
        "    cnt=cnt+1\n",
        "#print(predicted_classes)\n"
      ],
      "execution_count": null,
      "outputs": []
    },
    {
      "cell_type": "code",
      "metadata": {
        "id": "oycl5gVRlUXq",
        "colab_type": "code",
        "colab": {
          "base_uri": "https://localhost:8080/",
          "height": 34
        },
        "outputId": "2a427a5d-38cf-4154-a403-66750bbf26fe"
      },
      "source": [
        "from os import listdir\n",
        "from os.path import isfile, join\n",
        "import shutil\n",
        "onlyfiles = [f for f in listdir('/tmp') if isfile(join('/tmp', f))]\n",
        "for file in onlyfiles:\n",
        "    if file.startswith('model_4_e29') and file.endswith(\".h5\"):    \n",
        "        print(file)\n",
        "        shutil.copy(join('/tmp', file),join('/content/drive/My Drive/models',file))\n"
      ],
      "execution_count": null,
      "outputs": [
        {
          "output_type": "stream",
          "text": [
            "model_4_e29,0.88,0.17,0.93,0.26.h5\n"
          ],
          "name": "stdout"
        }
      ]
    }
  ]
}