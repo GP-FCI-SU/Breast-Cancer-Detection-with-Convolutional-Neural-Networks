{
  "nbformat": 4,
  "nbformat_minor": 0,
  "metadata": {
    "colab": {
      "name": "model_4_e.ipynb",
      "provenance": [],
      "collapsed_sections": [],
      "include_colab_link": true
    },
    "kernelspec": {
      "name": "python3",
      "display_name": "Python 3"
    },
    "accelerator": "GPU"
  },
  "cells": [
    {
      "cell_type": "markdown",
      "metadata": {
        "id": "view-in-github",
        "colab_type": "text"
      },
      "source": [
        "<a href=\"https://colab.research.google.com/github/GP-FCI-SU/Breast-Cancer-Detection-with-Convolutional-Neural-Networks/blob/master/model_4_e.ipynb\" target=\"_parent\"><img src=\"https://colab.research.google.com/assets/colab-badge.svg\" alt=\"Open In Colab\"/></a>"
      ]
    },
    {
      "cell_type": "markdown",
      "metadata": {
        "id": "A2Z7JQzh_4PS",
        "colab_type": "text"
      },
      "source": [
        "updated version of model_4_d .here we change the classes wieght (0:1)with (4:7) with the pixel values in images are scaled between 0 and 1"
      ]
    },
    {
      "cell_type": "code",
      "metadata": {
        "id": "zjHCbhWE5srf",
        "colab_type": "code",
        "colab": {}
      },
      "source": [
        "import zipfile\n",
        "local_zip = '/content/drive/My Drive/ddsm-mammography.zip'\n",
        "zip_ref = zipfile.ZipFile(local_zip, 'r')\n",
        "zip_ref.extractall('/tmp/ddsm')"
      ],
      "execution_count": null,
      "outputs": []
    },
    {
      "cell_type": "code",
      "metadata": {
        "id": "zt20ObPgIysP",
        "colab_type": "code",
        "colab": {
          "base_uri": "https://localhost:8080/",
          "height": 122
        },
        "outputId": "d75d659d-2abf-4a8e-e360-55685635722f"
      },
      "source": [
        "from google.colab import drive\n",
        "drive.mount('/content/drive')"
      ],
      "execution_count": null,
      "outputs": [
        {
          "output_type": "stream",
          "text": [
            "Go to this URL in a browser: https://accounts.google.com/o/oauth2/auth?client_id=947318989803-6bn6qk8qdgf4n4g3pfee6491hc0brc4i.apps.googleusercontent.com&redirect_uri=urn%3aietf%3awg%3aoauth%3a2.0%3aoob&response_type=code&scope=email%20https%3a%2f%2fwww.googleapis.com%2fauth%2fdocs.test%20https%3a%2f%2fwww.googleapis.com%2fauth%2fdrive%20https%3a%2f%2fwww.googleapis.com%2fauth%2fdrive.photos.readonly%20https%3a%2f%2fwww.googleapis.com%2fauth%2fpeopleapi.readonly\n",
            "\n",
            "Enter your authorization code:\n",
            "··········\n",
            "Mounted at /content/drive\n"
          ],
          "name": "stdout"
        }
      ]
    },
    {
      "cell_type": "code",
      "metadata": {
        "id": "fXCHT1-k9f2m",
        "colab_type": "code",
        "colab": {
          "base_uri": "https://localhost:8080/",
          "height": 34
        },
        "outputId": "e7c202a2-f17f-4a5c-88c0-3ee02dbdc589"
      },
      "source": [
        "import tensorflow as tf\n",
        "import numpy as np\n",
        "from sklearn.metrics import recall_score\n",
        "import matplotlib.pyplot as plt\n",
        "%matplotlib inline\n",
        "tf.__version__"
      ],
      "execution_count": null,
      "outputs": [
        {
          "output_type": "execute_result",
          "data": {
            "text/plain": [
              "'2.2.0'"
            ]
          },
          "metadata": {
            "tags": []
          },
          "execution_count": 2
        }
      ]
    },
    {
      "cell_type": "code",
      "metadata": {
        "id": "WeY4HpOT9lOr",
        "colab_type": "code",
        "colab": {}
      },
      "source": [
        "features={#needed features to feed into our model  \n",
        "            \n",
        "            'label_normal': tf.io.FixedLenFeature([], tf.int64),\n",
        "            'image': tf.io.FixedLenFeature([], tf.string)\n",
        "        }#we have also the label feature but not used here\n",
        "\n",
        "#make a function that will applied to the map transformation\n",
        "def _parse_image_function(example_proto):\n",
        "  parsed=tf.io.parse_single_example(example_proto,features)\n",
        "  image = tf.io.decode_raw(parsed[\"image\"], tf.uint8)\n",
        "  image = tf.cast(image, tf.float32)/255.0\n",
        "  image = tf.reshape(image, shape=[299,299,1])#our image shape and model expected one\n",
        "   #X_adj = tf.divide(X_adj, scale\n",
        "  label = tf.cast(parsed[\"label_normal\"], tf.int32) \n",
        "  return image,label #atuple of two tensos"
      ],
      "execution_count": null,
      "outputs": []
    },
    {
      "cell_type": "code",
      "metadata": {
        "id": "s4kqvHt99nIM",
        "colab_type": "code",
        "colab": {}
      },
      "source": [
        "def get_dataset(filenames):\n",
        "  dataset = tf.data.Dataset.list_files(filenames)\n",
        "  dataset = dataset.interleave(tf.data.TFRecordDataset,  num_parallel_calls=tf.data.experimental.AUTOTUNE)\n",
        "  dataset = dataset.map(_parse_image_function, num_parallel_calls=tf.data.experimental.AUTOTUNE)\n",
        "  #dataset = dataset.cache() # This dataset fits in RAM\n",
        "  #dataset = dataset.repeat()\n",
        "  #dataset = dataset.shuffle(2048)\n",
        "  dataset = dataset.batch(batch_size=16) # drop_remainder will be needed on TPU\n",
        "  dataset = dataset.prefetch(buffer_size=tf.data.experimental.AUTOTUNE)\n",
        "  return dataset"
      ],
      "execution_count": null,
      "outputs": []
    },
    {
      "cell_type": "code",
      "metadata": {
        "id": "s70Rn5ZM9suL",
        "colab_type": "code",
        "colab": {}
      },
      "source": [
        "def load_val():\n",
        "   X_cv = np.load( \"/tmp/ddsm/test10_data/test10_data.npy\")\n",
        "   labels = tf.cast(np.load( \"/tmp/ddsm/test10_labels.npy\"),tf.int8)\n",
        "   y_cv = np.zeros(len(labels))\n",
        "   y_cv[labels != 0] = 1\n",
        "   # X_cv = (X_cv - 127.0) / 255.0\n",
        "  # X_cv = X_cv / 255.0\n",
        "   X_cv= tf.cast(X_cv, tf.float32)/255.0\n",
        "   return X_cv, y_cv"
      ],
      "execution_count": null,
      "outputs": []
    },
    {
      "cell_type": "code",
      "metadata": {
        "id": "hdE0JMVF9zIr",
        "colab_type": "code",
        "colab": {}
      },
      "source": [
        "def get_training_dataset():\n",
        "  return get_dataset([\"/tmp/ddsm/training10_0/training10_0.tfrecords\",\n",
        "                     \"/tmp/ddsm/training10_1/training10_1.tfrecords\",\n",
        "                     \"/tmp/ddsm/training10_2/training10_2.tfrecords\",\n",
        "                     \"/tmp/ddsm/training10_3/training10_3.tfrecords\",\n",
        "                     \"/tmp/ddsm/training10_4/training10_4.tfrecords\"]\n",
        "                     )\n",
        "def get_test_dataset():\n",
        "  test_dataset = tf.data.Dataset.from_tensor_slices(load_val())\n",
        "  test_dataset= test_dataset.batch(batch_size=16)\n",
        "  test_dataset=test_dataset.cache()\n",
        "  return test_dataset\n",
        "\n",
        "test_dataset=get_test_dataset()\n",
        "def get_validation_dataset():\n",
        "  return test_dataset\n"
      ],
      "execution_count": null,
      "outputs": []
    },
    {
      "cell_type": "code",
      "metadata": {
        "id": "3iLjHR3w90zy",
        "colab_type": "code",
        "colab": {
          "base_uri": "https://localhost:8080/",
          "height": 765
        },
        "outputId": "26f65719-0ba5-448e-db26-3e719064e802"
      },
      "source": [
        "model = tf.keras.models.Sequential([ \n",
        "    tf.keras.layers.Conv2D( 32, (3,3), activation='relu', input_shape=(299,299,1)),\n",
        "    tf.keras.layers.Conv2D(32,(3,3),activation='relu'),\n",
        "    tf.keras.layers.Conv2D(32,(3,3),activation='relu'),   \n",
        "    tf.keras.layers.MaxPooling2D((3,3),strides=2),\n",
        "    \n",
        "    \n",
        "    tf.keras.layers.Conv2D(64,(3,3),activation='relu'),\n",
        "    tf.keras.layers.Conv2D(64,(3,3),activation='relu'),\n",
        "    tf.keras.layers.MaxPooling2D((2,2),strides=2),\n",
        "\n",
        "   tf.keras.layers.Conv2D(128,(3,3),activation='relu'),\n",
        "   tf.keras.layers.Conv2D(128,(3,3),activation='relu'),\n",
        "   tf.keras.layers.MaxPooling2D((2,2),strides=2),\n",
        "\n",
        "   tf.keras.layers.Conv2D(256,(3,3),activation='relu'),\n",
        "   tf.keras.layers.MaxPooling2D((2,2),strides=2),\n",
        "\n",
        "   tf.keras.layers.Conv2D(512,(3,3),activation='relu'),\n",
        "   tf.keras.layers.MaxPooling2D((2,2),strides=2),\n",
        "   # tf.keras.layers.MaxPooling2D(2, 2),\n",
        "    tf.keras.layers.Flatten(),\n",
        "    tf.keras.layers.Dense(2048, activation='relu'),\n",
        "    tf.keras.layers.Dense(2048,activation='relu'),\n",
        "    tf.keras.layers.Dense(1, activation='sigmoid')\n",
        "])\n",
        "model.summary()"
      ],
      "execution_count": null,
      "outputs": [
        {
          "output_type": "stream",
          "text": [
            "Model: \"sequential\"\n",
            "_________________________________________________________________\n",
            "Layer (type)                 Output Shape              Param #   \n",
            "=================================================================\n",
            "conv2d (Conv2D)              (None, 297, 297, 32)      320       \n",
            "_________________________________________________________________\n",
            "conv2d_1 (Conv2D)            (None, 295, 295, 32)      9248      \n",
            "_________________________________________________________________\n",
            "conv2d_2 (Conv2D)            (None, 293, 293, 32)      9248      \n",
            "_________________________________________________________________\n",
            "max_pooling2d (MaxPooling2D) (None, 146, 146, 32)      0         \n",
            "_________________________________________________________________\n",
            "conv2d_3 (Conv2D)            (None, 144, 144, 64)      18496     \n",
            "_________________________________________________________________\n",
            "conv2d_4 (Conv2D)            (None, 142, 142, 64)      36928     \n",
            "_________________________________________________________________\n",
            "max_pooling2d_1 (MaxPooling2 (None, 71, 71, 64)        0         \n",
            "_________________________________________________________________\n",
            "conv2d_5 (Conv2D)            (None, 69, 69, 128)       73856     \n",
            "_________________________________________________________________\n",
            "conv2d_6 (Conv2D)            (None, 67, 67, 128)       147584    \n",
            "_________________________________________________________________\n",
            "max_pooling2d_2 (MaxPooling2 (None, 33, 33, 128)       0         \n",
            "_________________________________________________________________\n",
            "conv2d_7 (Conv2D)            (None, 31, 31, 256)       295168    \n",
            "_________________________________________________________________\n",
            "max_pooling2d_3 (MaxPooling2 (None, 15, 15, 256)       0         \n",
            "_________________________________________________________________\n",
            "conv2d_8 (Conv2D)            (None, 13, 13, 512)       1180160   \n",
            "_________________________________________________________________\n",
            "max_pooling2d_4 (MaxPooling2 (None, 6, 6, 512)         0         \n",
            "_________________________________________________________________\n",
            "flatten (Flatten)            (None, 18432)             0         \n",
            "_________________________________________________________________\n",
            "dense (Dense)                (None, 2048)              37750784  \n",
            "_________________________________________________________________\n",
            "dense_1 (Dense)              (None, 2048)              4196352   \n",
            "_________________________________________________________________\n",
            "dense_2 (Dense)              (None, 1)                 2049      \n",
            "=================================================================\n",
            "Total params: 43,720,193\n",
            "Trainable params: 43,720,193\n",
            "Non-trainable params: 0\n",
            "_________________________________________________________________\n"
          ],
          "name": "stdout"
        }
      ]
    },
    {
      "cell_type": "code",
      "metadata": {
        "id": "F0eMGD4195fo",
        "colab_type": "code",
        "colab": {}
      },
      "source": [
        "class myCallback(tf.keras.callbacks.Callback):\n",
        "    def on_epoch_end(self, epoch, logs={}):\n",
        "      if epoch>13:\n",
        "        self.model.save(\"/tmp/model_4_e_e{},{:.2f},{:.2f},{:.2f},{:.2f}.h5\".format(epoch,logs['acc'],logs['loss'],logs['val_acc'],logs['val_loss']))"
      ],
      "execution_count": null,
      "outputs": []
    },
    {
      "cell_type": "code",
      "metadata": {
        "id": "nz8QiwZuE3Ao",
        "colab_type": "code",
        "colab": {}
      },
      "source": [
        "class_weights = {1: 0.64,\n",
        "                 0: 0.36}"
      ],
      "execution_count": null,
      "outputs": []
    },
    {
      "cell_type": "code",
      "metadata": {
        "id": "M1CFWy5T-DYM",
        "colab_type": "code",
        "colab": {}
      },
      "source": [
        "#from tensorflow.keras.optimizers import RMSprop\n",
        "model.compile(loss='binary_crossentropy',\n",
        "              optimizer='adam',\n",
        "              metrics=['acc'])"
      ],
      "execution_count": null,
      "outputs": []
    },
    {
      "cell_type": "code",
      "metadata": {
        "id": "ZjjB8uxz-MXK",
        "colab_type": "code",
        "colab": {
          "base_uri": "https://localhost:8080/",
          "height": 615
        },
        "outputId": "7555727a-42e1-4c16-946d-5409e6f69f9c"
      },
      "source": [
        "callback=myCallback()\n",
        "history = model.fit(\n",
        "    get_training_dataset(),\n",
        "     validation_data=get_validation_dataset(), \n",
        "      epochs=30,\n",
        "      verbose=1,\n",
        "      callbacks=[callback],\n",
        "      class_weight=class_weights\n",
        "      )"
      ],
      "execution_count": null,
      "outputs": [
        {
          "output_type": "stream",
          "text": [
            "Epoch 1/30\n",
            "3493/3493 [==============================] - 1098s 314ms/step - loss: 0.1530 - acc: 0.8774 - val_loss: 0.1972 - val_acc: 0.9318\n",
            "Epoch 2/30\n",
            "3493/3493 [==============================] - 1094s 313ms/step - loss: 0.1343 - acc: 0.8915 - val_loss: 0.2272 - val_acc: 0.9219\n",
            "Epoch 3/30\n",
            "3493/3493 [==============================] - 1091s 312ms/step - loss: 0.1230 - acc: 0.8965 - val_loss: 0.2533 - val_acc: 0.9150\n",
            "Epoch 4/30\n",
            "3493/3493 [==============================] - 1093s 313ms/step - loss: 0.1181 - acc: 0.8990 - val_loss: 0.2111 - val_acc: 0.9074\n",
            "Epoch 5/30\n",
            "3493/3493 [==============================] - 1092s 312ms/step - loss: 0.1159 - acc: 0.8994 - val_loss: 0.2039 - val_acc: 0.9272\n",
            "Epoch 6/30\n",
            "3493/3493 [==============================] - 1091s 312ms/step - loss: 0.1198 - acc: 0.9001 - val_loss: 0.1861 - val_acc: 0.9296\n",
            "Epoch 7/30\n",
            "3493/3493 [==============================] - 1091s 312ms/step - loss: 0.1067 - acc: 0.9077 - val_loss: 0.4725 - val_acc: 0.7902\n",
            "Epoch 8/30\n",
            "3493/3493 [==============================] - 1093s 313ms/step - loss: 0.1061 - acc: 0.9089 - val_loss: 0.2104 - val_acc: 0.9232\n",
            "Epoch 9/30\n",
            "3493/3493 [==============================] - 1096s 314ms/step - loss: 0.1011 - acc: 0.9129 - val_loss: 0.2521 - val_acc: 0.8778\n",
            "Epoch 10/30\n",
            "3493/3493 [==============================] - 1095s 314ms/step - loss: 0.0976 - acc: 0.9165 - val_loss: 0.1935 - val_acc: 0.9254\n",
            "Epoch 11/30\n",
            "3493/3493 [==============================] - 1095s 313ms/step - loss: 0.0977 - acc: 0.9157 - val_loss: 0.1883 - val_acc: 0.9297\n",
            "Epoch 12/30\n",
            "3493/3493 [==============================] - 1096s 314ms/step - loss: 0.0940 - acc: 0.9195 - val_loss: 0.3043 - val_acc: 0.8756\n",
            "Epoch 13/30\n",
            "3493/3493 [==============================] - 1095s 313ms/step - loss: 0.0928 - acc: 0.9209 - val_loss: 0.2678 - val_acc: 0.8789\n",
            "Epoch 14/30\n",
            "3493/3493 [==============================] - 1094s 313ms/step - loss: 0.0901 - acc: 0.9226 - val_loss: 0.2274 - val_acc: 0.9115\n",
            "Epoch 15/30\n",
            "3493/3493 [==============================] - 1100s 315ms/step - loss: 0.0895 - acc: 0.9233 - val_loss: 0.1875 - val_acc: 0.9261\n",
            "Epoch 16/30\n",
            "3493/3493 [==============================] - 1098s 314ms/step - loss: 0.0849 - acc: 0.9270 - val_loss: 0.1774 - val_acc: 0.9315\n",
            "Epoch 17/30\n",
            "3237/3493 [==========================>...] - ETA: 1:16 - loss: 0.0832 - acc: 0.9306Buffered data was truncated after reaching the output size limit."
          ],
          "name": "stdout"
        }
      ]
    },
    {
      "cell_type": "markdown",
      "metadata": {
        "id": "hAbvDR_9olyl",
        "colab_type": "text"
      },
      "source": [
        ""
      ]
    },
    {
      "cell_type": "code",
      "metadata": {
        "id": "erJTUx0p_VD-",
        "colab_type": "code",
        "colab": {
          "base_uri": "https://localhost:8080/",
          "height": 105
        },
        "outputId": "729d78a5-bf6f-46fe-8a5e-f6a584625cec"
      },
      "source": [
        "def load_val():\n",
        "   X_cv = np.load( \"/tmp/ddsm/test10_data/test10_data.npy\")\n",
        "   labels = tf.cast(np.load( \"/tmp/ddsm/test10_labels.npy\"),tf.int8)\n",
        "   y_cv = np.zeros(len(labels))\n",
        "   y_cv[labels != 0] = 1\n",
        "   # X_cv = (X_cv - 127.0) / 255.0\n",
        "  # X_cv = X_cv / 255.0\n",
        "   X_cv= tf.cast(X_cv, tf.float32)/255.0\n",
        "   return X_cv, y_cv\n",
        "yhat=model.predict_classes(get_validation_dataset() )\n",
        "yhat = yhat[:, 0]\n",
        "_,y=load_val()\n",
        "recall = recall_score(y, yhat)\n",
        "print('Recall: %f' % recall)"
      ],
      "execution_count": null,
      "outputs": [
        {
          "output_type": "stream",
          "text": [
            "WARNING:tensorflow:From <ipython-input-15-d6debd75ae24>:10: Sequential.predict_classes (from tensorflow.python.keras.engine.sequential) is deprecated and will be removed after 2021-01-01.\n",
            "Instructions for updating:\n",
            "Please use instead:* `np.argmax(model.predict(x), axis=-1)`,   if your model does multi-class classification   (e.g. if it uses a `softmax` last-layer activation).* `(model.predict(x) > 0.5).astype(\"int32\")`,   if your model does binary classification   (e.g. if it uses a `sigmoid` last-layer activation).\n",
            "Recall: 0.673653\n"
          ],
          "name": "stdout"
        }
      ]
    },
    {
      "cell_type": "code",
      "metadata": {
        "id": "EnLYaz9k-Qpx",
        "colab_type": "code",
        "colab": {
          "base_uri": "https://localhost:8080/",
          "height": 573
        },
        "outputId": "03982651-d32c-41c7-c249-f81367a4159c"
      },
      "source": [
        "plt.plot(history.history['acc'])\n",
        "plt.plot(history.history['val_acc'])\n",
        "plt.title('model accuracy')\n",
        "plt.ylabel('accuracy')\n",
        "plt.xlabel('epoch')\n",
        "plt.legend(['train', 'test'], loc='upper left')\n",
        "plt.show()\n",
        "# summarize history for loss\n",
        "plt.plot(history.history['loss'])\n",
        "plt.plot(history.history['val_loss'])\n",
        "plt.title('model loss')\n",
        "plt.ylabel('loss')\n",
        "plt.xlabel('epoch')\n",
        "plt.legend(['train', 'test'], loc='upper left')\n",
        "plt.show()"
      ],
      "execution_count": null,
      "outputs": [
        {
          "output_type": "display_data",
          "data": {
            "image/png": "[encoded data removed]",
            "text/plain": [
              "<Figure size 432x288 with 1 Axes>"
            ]
          },
          "metadata": {
            "tags": [],
            "needs_background": "light"
          }
        },
        {
          "output_type": "display_data",
          "data": {
            "image/png": "[encoded data removed]",
            "text/plain": [
              "<Figure size 432x288 with 1 Axes>"
            ]
          },
          "metadata": {
            "tags": [],
            "needs_background": "light"
          }
        }
      ]
    },
    {
      "cell_type": "code",
      "metadata": {
        "id": "o-VExEpA-Vlq",
        "colab_type": "code",
        "colab": {
          "base_uri": "https://localhost:8080/",
          "height": 248
        },
        "outputId": "a909a317-d5d4-4c91-f475-1bf78ec52ea0"
      },
      "source": [
        "fig = plt.figure(figsize=(24,100))\n",
        "\n",
        "cnt=1\n",
        "\n",
        "ds=get_validation_dataset()\n",
        "\n",
        "for imgs,lbls in ds.take(8):\n",
        "  predicted_classes=model.predict_classes(imgs)\n",
        "  for img,lbl,cl in zip(imgs,lbls,predicted_classes):\n",
        "    fig.add_subplot(32,4, cnt)\n",
        "    plt.title('{}/{}'.format(cl,int(lbl)))\n",
        "    plt.imshow(tf.reshape(img, shape=[299,299]))\n",
        "    cnt=cnt+1\n",
        "#print(predicted_classes)\n"
      ],
      "execution_count": null,
      "outputs": [
        {
          "output_type": "error",
          "ename": "NameError",
          "evalue": "ignored",
          "traceback": [
            "\u001b[0;31m---------------------------------------------------------------------------\u001b[0m",
            "\u001b[0;31mNameError\u001b[0m                                 Traceback (most recent call last)",
            "\u001b[0;32m<ipython-input-3-7f54fef5f783>\u001b[0m in \u001b[0;36m<module>\u001b[0;34m()\u001b[0m\n\u001b[1;32m      3\u001b[0m \u001b[0mcnt\u001b[0m\u001b[0;34m=\u001b[0m\u001b[0;36m1\u001b[0m\u001b[0;34m\u001b[0m\u001b[0;34m\u001b[0m\u001b[0m\n\u001b[1;32m      4\u001b[0m \u001b[0;34m\u001b[0m\u001b[0m\n\u001b[0;32m----> 5\u001b[0;31m \u001b[0mds\u001b[0m\u001b[0;34m=\u001b[0m\u001b[0mget_validation_dataset\u001b[0m\u001b[0;34m(\u001b[0m\u001b[0;34m)\u001b[0m\u001b[0;34m\u001b[0m\u001b[0;34m\u001b[0m\u001b[0m\n\u001b[0m\u001b[1;32m      6\u001b[0m \u001b[0;34m\u001b[0m\u001b[0m\n\u001b[1;32m      7\u001b[0m \u001b[0;32mfor\u001b[0m \u001b[0mimgs\u001b[0m\u001b[0;34m,\u001b[0m\u001b[0mlbls\u001b[0m \u001b[0;32min\u001b[0m \u001b[0mds\u001b[0m\u001b[0;34m.\u001b[0m\u001b[0mtake\u001b[0m\u001b[0;34m(\u001b[0m\u001b[0;36m8\u001b[0m\u001b[0;34m)\u001b[0m\u001b[0;34m:\u001b[0m\u001b[0;34m\u001b[0m\u001b[0;34m\u001b[0m\u001b[0m\n",
            "\u001b[0;31mNameError\u001b[0m: name 'get_validation_dataset' is not defined"
          ]
        },
        {
          "output_type": "display_data",
          "data": {
            "text/plain": [
              "<Figure size 1728x7200 with 0 Axes>"
            ]
          },
          "metadata": {
            "tags": []
          }
        }
      ]
    },
    {
      "cell_type": "code",
      "metadata": {
        "id": "oycl5gVRlUXq",
        "colab_type": "code",
        "colab": {}
      },
      "source": [
        "from os import listdir\n",
        "from os.path import isfile, join\n",
        "import shutil\n",
        "onlyfiles = [f for f in listdir('/tmp') if isfile(join('/tmp', f))]\n",
        "for file in onlyfiles:\n",
        "    if file.startswith('model_4_e_e29') and file.endswith(\".h5\"):    \n",
        "        print(file)\n",
        "        shutil.copy(join('/tmp', file),join('/content/drive/My Drive/models',file))\n"
      ],
      "execution_count": null,
      "outputs": []
    }
  ]
}